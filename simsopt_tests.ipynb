{
 "cells": [
  {
   "cell_type": "code",
   "execution_count": 1,
   "metadata": {},
   "outputs": [],
   "source": [
    "import simsopt\n",
    "import matplotlib\n",
    "from pathlib import Path\n",
    "import numpy as np\n",
    "from simsopt.field import DipoleField, ToroidalField\n",
    "from simsopt.geo import PermanentMagnetGrid, SurfaceRZFourier\n",
    "from simsopt.solve import GPMO\n",
    "from simsopt.util.permanent_magnet_helper_functions import *"
   ]
  },
  {
   "cell_type": "code",
   "execution_count": 2,
   "metadata": {},
   "outputs": [],
   "source": [
    "nphi = 16\n",
    "ntheta = 16\n",
    "filename = \"simsopt/tests/test_files/wout_c09r00_fixedBoundary_0.5T_vacuum_ns201.nc\"\n",
    "s = SurfaceRZFourier.from_wout(filename, range=\"half period\", nphi=nphi, ntheta=ntheta)"
   ]
  },
  {
   "cell_type": "code",
   "execution_count": 3,
   "metadata": {},
   "outputs": [],
   "source": [
    "net_poloidal_current_Amperes = 3.7713e+6\n",
    "mu0 = 4 * np.pi * 1e-7\n",
    "RB = mu0 * net_poloidal_current_Amperes / (2 * np.pi)\n",
    "bs = ToroidalField(R0=1, B0=RB)\n",
    "bs.set_points(s.gamma().reshape((-1, 3)))\n",
    "Bnormal = np.sum(bs.B().reshape((nphi, ntheta, 3)) * s.unitnormal(), axis=2)"
   ]
  },
  {
   "cell_type": "code",
   "execution_count": 6,
   "metadata": {},
   "outputs": [
    {
     "name": "stdout",
     "output_type": "stream",
     "text": [
      "f_B (total with initial SIMSOPT guess) =  0.21659773300989732\n"
     ]
    }
   ],
   "source": [
    "kwargs = {\"coordinate_flag\": \"cylindrical\"}\n",
    "famus_filename = 'simsopt/tests/test_files/init_orient_pm_nonorm_5E4_q4_dp.focus'\n",
    "pm_opt = PermanentMagnetGrid.geo_setup_from_famus(\n",
    "    s, Bnormal, famus_filename, **kwargs\n",
    ")\n"
   ]
  },
  {
   "cell_type": "code",
   "execution_count": 9,
   "metadata": {},
   "outputs": [
    {
     "name": "stdout",
     "output_type": "stream",
     "text": [
      "Number of binary dipoles to use in GPMO algorithm =  400\n",
      "Number of binary dipoles returned by GPMO algorithm =  400\n"
     ]
    }
   ],
   "source": [
    "kwargs = initialize_default_kwargs('GPMO')\n",
    "kwargs['K'] = 40000\n",
    "kwargs['nhistory'] = 100\n",
    "\n",
    "# Optimize the permanent magnets greedily\n",
    "R2_history, Bn_history, m_history = GPMO(pm_opt, **kwargs)"
   ]
  },
  {
   "cell_type": "code",
   "execution_count": 10,
   "metadata": {},
   "outputs": [],
   "source": [
    "b_dipole = DipoleField(\n",
    "  pm_opt.dipole_grid_xyz,\n",
    "  pm_opt.m,\n",
    "  nfp=s.nfp,\n",
    "  coordinate_flag=pm_opt.coordinate_flag,\n",
    "  m_maxima=pm_opt.m_maxima,\n",
    ")\n",
    "b_dipole.set_points(s.gamma().reshape((-1, 3)))\n",
    "Bnormal_dipoles = np.sum(b_dipole.B().reshape((nphi, ntheta, 3)) * s.unitnormal(), axis=-1)\n",
    "Bnormal_total = Bnormal + Bnormal_dipoles\n",
    "\n",
    "# Now save vtk files of Bnormal, Bnormal_dipoles, and Bnormal_total for Paraview viewing\n",
    "pointData = {\"B_N\": Bnormal[:, :, None]}\n",
    "s.to_vtk(\"CoilsBn\", extra_data=pointData)\n",
    "pointData = {\"B_N\": Bnormal_dipoles[:, :, None]}\n",
    "s.to_vtk(\"MagnetsBn\", extra_data=pointData)\n",
    "pointData = {\"B_N\": Bnormal_total[:, :, None]}\n",
    "s.to_vtk(\"TotalBn\", extra_data=pointData)"
   ]
  },
  {
   "cell_type": "code",
   "execution_count": null,
   "metadata": {},
   "outputs": [],
   "source": []
  }
 ],
 "metadata": {
  "kernelspec": {
   "display_name": "Python 3 (ipykernel)",
   "language": "python",
   "name": "python3"
  },
  "language_info": {
   "codemirror_mode": {
    "name": "ipython",
    "version": 3
   },
   "file_extension": ".py",
   "mimetype": "text/x-python",
   "name": "python",
   "nbconvert_exporter": "python",
   "pygments_lexer": "ipython3",
   "version": "3.10.9"
  }
 },
 "nbformat": 4,
 "nbformat_minor": 4
}
