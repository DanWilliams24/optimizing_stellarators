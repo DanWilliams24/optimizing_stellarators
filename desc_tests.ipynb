{
 "cells": [
  {
   "cell_type": "code",
   "execution_count": 1,
   "metadata": {},
   "outputs": [
    {
     "ename": "ModuleNotFoundError",
     "evalue": "No module named 'desc'",
     "output_type": "error",
     "traceback": [
      "\u001b[0;31m---------------------------------------------------------------------------\u001b[0m",
      "\u001b[0;31mModuleNotFoundError\u001b[0m                       Traceback (most recent call last)",
      "Cell \u001b[0;32mIn[1], line 3\u001b[0m\n\u001b[1;32m      1\u001b[0m get_ipython()\u001b[38;5;241m.\u001b[39mrun_line_magic(\u001b[38;5;124m'\u001b[39m\u001b[38;5;124mmatplotlib\u001b[39m\u001b[38;5;124m'\u001b[39m, \u001b[38;5;124m'\u001b[39m\u001b[38;5;124minline\u001b[39m\u001b[38;5;124m'\u001b[39m)\n\u001b[1;32m      2\u001b[0m \u001b[38;5;28;01mimport\u001b[39;00m \u001b[38;5;21;01mnumpy\u001b[39;00m \u001b[38;5;28;01mas\u001b[39;00m \u001b[38;5;21;01mnp\u001b[39;00m\n\u001b[0;32m----> 3\u001b[0m \u001b[38;5;28;01mimport\u001b[39;00m \u001b[38;5;21;01mdesc\u001b[39;00m\n\u001b[1;32m      4\u001b[0m \u001b[38;5;28;01mfrom\u001b[39;00m \u001b[38;5;21;01mdesc\u001b[39;00m\u001b[38;5;21;01m.\u001b[39;00m\u001b[38;5;21;01mequilibrium\u001b[39;00m \u001b[38;5;28;01mimport\u001b[39;00m Equilibrium\n\u001b[1;32m      5\u001b[0m \u001b[38;5;28;01mfrom\u001b[39;00m \u001b[38;5;21;01mdesc\u001b[39;00m\u001b[38;5;21;01m.\u001b[39;00m\u001b[38;5;21;01mgeometry\u001b[39;00m \u001b[38;5;28;01mimport\u001b[39;00m FourierRZToroidalSurface\n",
      "\u001b[0;31mModuleNotFoundError\u001b[0m: No module named 'desc'"
     ]
    }
   ],
   "source": [
    "%matplotlib inline\n",
    "import numpy as np\n",
    "import desc\n",
    "from desc.equilibrium import Equilibrium\n",
    "from desc.geometry import FourierRZToroidalSurface\n",
    "from desc.objectives import (\n",
    "    ObjectiveFunction,\n",
    "    CurrentDensity,\n",
    "    get_fixed_boundary_constraints,\n",
    ")\n",
    "from desc.optimize import Optimizer\n",
    "from desc.plotting import plot_1d, plot_section, plot_surfaces\n",
    "from desc.profiles import PowerSeriesProfile"
   ]
  },
  {
   "cell_type": "code",
   "execution_count": null,
   "metadata": {},
   "outputs": [],
   "source": [
    "surface_2D = FourierRZToroidalSurface(\n",
    "    R_lmn=np.array([10, -1]),  # boundary coefficients\n",
    "    Z_lmn=np.array([1]),\n",
    "    modes_R=np.array([[0, 0], [1, 0]]),  # [M, N] boundary Fourier modes\n",
    "    modes_Z=np.array([[-1, 0]]),\n",
    "    NFP=5,  # number of (toroidal) field periods\n",
    ")"
   ]
  },
  {
   "cell_type": "code",
   "execution_count": null,
   "metadata": {},
   "outputs": [],
   "source": [
    "iota = PowerSeriesProfile(modes=np.array([0]), params=np.array([0]))\n",
    "# axisymmetric & stellarator symmetric equilibrium\n",
    "eq = Equilibrium(iota=iota, surface=surface_2D, sym=True)\n",
    "eq.change_resolution(L=6, M=6, L_grid=12, M_grid=12)"
   ]
  },
  {
   "cell_type": "code",
   "execution_count": null,
   "metadata": {},
   "outputs": [],
   "source": [
    "objective = ObjectiveFunction(CurrentDensity())"
   ]
  },
  {
   "cell_type": "code",
   "execution_count": null,
   "metadata": {},
   "outputs": [],
   "source": [
    "constraints = get_fixed_boundary_constraints(profiles=False)"
   ]
  },
  {
   "cell_type": "code",
   "execution_count": 5,
   "metadata": {},
   "outputs": [
    {
     "ename": "NameError",
     "evalue": "name 'Optimizer' is not defined",
     "output_type": "error",
     "traceback": [
      "\u001b[0;31m---------------------------------------------------------------------------\u001b[0m",
      "\u001b[0;31mNameError\u001b[0m                                 Traceback (most recent call last)",
      "Cell \u001b[0;32mIn[5], line 2\u001b[0m\n\u001b[1;32m      1\u001b[0m \u001b[39m# this is a port of scipy's trust region least squares algorithm but using jax functions for better performance\u001b[39;00m\n\u001b[0;32m----> 2\u001b[0m optimizer \u001b[39m=\u001b[39m Optimizer(\u001b[39m\"\u001b[39m\u001b[39mlsq-exact\u001b[39m\u001b[39m\"\u001b[39m)\n\u001b[1;32m      3\u001b[0m eq, solver_outputs \u001b[39m=\u001b[39m eq\u001b[39m.\u001b[39msolve(\n\u001b[1;32m      4\u001b[0m     objective\u001b[39m=\u001b[39mobjective, constraints\u001b[39m=\u001b[39mconstraints, optimizer\u001b[39m=\u001b[39moptimizer, verbose\u001b[39m=\u001b[39m\u001b[39m3\u001b[39m\n\u001b[1;32m      5\u001b[0m )\n",
      "\u001b[0;31mNameError\u001b[0m: name 'Optimizer' is not defined"
     ]
    }
   ],
   "source": [
    "# this is a port of scipy's trust region least squares algorithm but using jax functions for better performance\n",
    "optimizer = Optimizer(\"lsq-exact\")\n",
    "eq, solver_outputs = eq.solve(\n",
    "    objective=objective, constraints=constraints, optimizer=optimizer, verbose=3\n",
    ")"
   ]
  }
 ],
 "metadata": {
  "kernelspec": {
   "display_name": "Python 3 (ipykernel)",
   "language": "python",
   "name": "python3"
  },
  "language_info": {
   "codemirror_mode": {
    "name": "ipython",
    "version": 3
   },
   "file_extension": ".py",
   "mimetype": "text/x-python",
   "name": "python",
   "nbconvert_exporter": "python",
   "pygments_lexer": "ipython3",
   "version": "3.10.9"
  }
 },
 "nbformat": 4,
 "nbformat_minor": 4
}
